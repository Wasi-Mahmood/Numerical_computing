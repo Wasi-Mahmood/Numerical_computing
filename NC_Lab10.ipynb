{
 "cells": [
  {
   "cell_type": "markdown",
   "metadata": {},
   "source": [
    "<b><center>Name: Wasi Mahmood </center> <center><l>SID: 10578 </l></center> <center><l>NC_LAB 10</l></center></b>"
   ]
  },
  {
   "cell_type": "code",
   "execution_count": 1,
   "metadata": {},
   "outputs": [],
   "source": [
    "def fx(x):\n",
    "    return (1/(1+x**2))"
   ]
  },
  {
   "cell_type": "code",
   "execution_count": 52,
   "metadata": {},
   "outputs": [],
   "source": [
    "def differenceH(upperLim, lowerLim, intervals):\n",
    "    loop_cond = True\n",
    "    H =[0]\n",
    "    difference = (upperLim - lowerLim)/intervals\n",
    "    a = difference\n",
    "    \n",
    "    while loop_cond  is True:\n",
    "        H.append(difference)\n",
    "        \n",
    "        difference = difference + a\n",
    "        \n",
    "        if (difference / upperLim) > 1:\n",
    "            loop_cond = False\n",
    "    return H"
   ]
  },
  {
   "cell_type": "code",
   "execution_count": 53,
   "metadata": {},
   "outputs": [
    {
     "name": "stdout",
     "output_type": "stream",
     "text": [
      "[0, 0.25, 0.5, 0.75, 1.0]\n"
     ]
    }
   ],
   "source": [
    "H = []\n",
    "H = differenceH(1,0,4)\n",
    "print(H)"
   ]
  },
  {
   "cell_type": "code",
   "execution_count": 4,
   "metadata": {
    "scrolled": true
   },
   "outputs": [
    {
     "name": "stdout",
     "output_type": "stream",
     "text": [
      "1.0\n",
      "0.9411764705882353\n",
      "0.8\n",
      "0.64\n",
      "0.5\n"
     ]
    }
   ],
   "source": [
    "approx =[]\n",
    "for i in range(len(H)):\n",
    "    approx.append(fx(H[i]))\n",
    "    print(approx[i])"
   ]
  },
  {
   "cell_type": "code",
   "execution_count": 49,
   "metadata": {},
   "outputs": [],
   "source": [
    "#(0.25/3) *(approx[0] +approx[-1] + (4* sum(list(filter(lambda x: x%2 ==0,approx[1:-1]))) + 2*sum(list(filter(lambda x: x%2 !=0 , approx[2:-2])))))"
   ]
  },
  {
   "cell_type": "code",
   "execution_count": 63,
   "metadata": {},
   "outputs": [
    {
     "data": {
      "text/plain": [
       "0.785392156862745"
      ]
     },
     "execution_count": 63,
     "metadata": {},
     "output_type": "execute_result"
    }
   ],
   "source": [
    "(0.25/3) *(approx[0] +approx[-1] + (4* sum(approx[1:-1:2]) + 2*sum(approx[2:-2:2])))"
   ]
  },
  {
   "cell_type": "code",
   "execution_count": 48,
   "metadata": {},
   "outputs": [
    {
     "data": {
      "text/plain": [
       "0.7853981633974484"
      ]
     },
     "execution_count": 48,
     "metadata": {},
     "output_type": "execute_result"
    }
   ],
   "source": [
    "import scipy.integrate as si\n",
    "\n",
    "ans, err = si.quad(fx,0,1)\n",
    "ans"
   ]
  },
  {
   "cell_type": "code",
   "execution_count": 54,
   "metadata": {},
   "outputs": [],
   "source": [
    "import math as m"
   ]
  },
  {
   "cell_type": "markdown",
   "metadata": {},
   "source": [
    "# Question 2"
   ]
  },
  {
   "cell_type": "code",
   "execution_count": 59,
   "metadata": {},
   "outputs": [],
   "source": [
    "def fx1(t):\n",
    "    return (2000*m.log((140000)/(140000 - 2100*t))-9.8*t)"
   ]
  },
  {
   "cell_type": "code",
   "execution_count": 77,
   "metadata": {},
   "outputs": [
    {
     "data": {
      "text/plain": [
       "[0,\n",
       " 3.6666666666666665,\n",
       " 7.333333333333333,\n",
       " 11.0,\n",
       " 14.666666666666666,\n",
       " 18.333333333333332,\n",
       " 22.0,\n",
       " 25.666666666666668,\n",
       " 29.333333333333336]"
      ]
     },
     "execution_count": 77,
     "metadata": {},
     "output_type": "execute_result"
    }
   ],
   "source": [
    "H =differenceH(30,8,6)\n",
    "H"
   ]
  },
  {
   "cell_type": "code",
   "execution_count": 78,
   "metadata": {},
   "outputs": [
    {
     "name": "stdout",
     "output_type": "stream",
     "text": [
      "0.0\n",
      "77.20736964345514\n",
      "161.20096584523654\n",
      "252.84710826256293\n",
      "353.1893852636661\n",
      "463.500581588258\n",
      "585.3551331942507\n",
      "720.7326890179049\n",
      "872.1703238392176\n"
     ]
    }
   ],
   "source": [
    "approx1 =[]\n",
    "for i in range(len(H)):\n",
    "    approx1.append(fx1(H[i]))\n",
    "    print(approx1[i])"
   ]
  },
  {
   "cell_type": "code",
   "execution_count": 79,
   "metadata": {},
   "outputs": [
    {
     "data": {
      "text/plain": [
       "11157.437239048526"
      ]
     },
     "execution_count": 79,
     "metadata": {},
     "output_type": "execute_result"
    }
   ],
   "source": [
    "direct_method = (H[1]/3) * (approx1[0]+approx1[-1] + (4*(sum(approx1[1:-1:2]))) + (2*(sum(approx1[2:-2:2]))))\n",
    "direct_method  "
   ]
  },
  {
   "cell_type": "code",
   "execution_count": 66,
   "metadata": {},
   "outputs": [
    {
     "data": {
      "text/plain": [
       "11061.335535080994"
      ]
     },
     "execution_count": 66,
     "metadata": {},
     "output_type": "execute_result"
    }
   ],
   "source": [
    "import scipy.integrate as si\n",
    "    \n",
    "ans, err =si.quad(fx1, 8,30)\n",
    "ans"
   ]
  },
  {
   "cell_type": "code",
   "execution_count": 80,
   "metadata": {},
   "outputs": [
    {
     "name": "stdout",
     "output_type": "stream",
     "text": [
      "By Direct Method:  11157.437239048526\n",
      "By simpson integral Mathod:  11061.335535080994\n",
      "Error:  -96.10170396753165\n"
     ]
    }
   ],
   "source": [
    "print(\"By Direct Method: \", direct_method)\n",
    "print(\"By simpson integral Mathod: \", ans)\n",
    "print(\"Error: \", ans - direct_method)\n"
   ]
  }
 ],
 "metadata": {
  "kernelspec": {
   "display_name": "Python 3.8.5 ('base')",
   "language": "python",
   "name": "python3"
  },
  "language_info": {
   "codemirror_mode": {
    "name": "ipython",
    "version": 3
   },
   "file_extension": ".py",
   "mimetype": "text/x-python",
   "name": "python",
   "nbconvert_exporter": "python",
   "pygments_lexer": "ipython3",
   "version": "3.8.5"
  },
  "vscode": {
   "interpreter": {
    "hash": "30424d9308010dafecca22b5ec9402eef0e44005ea326a16069b35614aa41d25"
   }
  }
 },
 "nbformat": 4,
 "nbformat_minor": 2
}
