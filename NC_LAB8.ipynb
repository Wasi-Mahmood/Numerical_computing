{
 "cells": [
  {
   "cell_type": "markdown",
   "metadata": {},
   "source": [
    "<b><center>Name: Wasi Mahmood </center> <center><l> SID: 10578</l></center> <center><l> NC Lab 8 & 10</l></center></b>"
   ]
  },
  {
   "cell_type": "code",
   "execution_count": 65,
   "metadata": {},
   "outputs": [],
   "source": [
    "def tolernace(greater_value, smaller_value,tol):\n",
    "    result =abs(greater_value - smaller_value)\n",
    "    \n",
    "    if result <= tol:\n",
    "        print(\"Tolerance: \", result)\n",
    "        return True\n",
    "    else:\n",
    "        \n",
    "        return False"
   ]
  },
  {
   "cell_type": "code",
   "execution_count": 51,
   "metadata": {},
   "outputs": [],
   "source": [
    "def fx(y,z):\n",
    "    x = (-11*y +4*z + 95)/83\n",
    "    print(\"x = \",x)\n",
    "    return x"
   ]
  },
  {
   "cell_type": "code",
   "execution_count": 52,
   "metadata": {},
   "outputs": [],
   "source": [
    "def fy(x,z):\n",
    "    y = (-7*x -13*z +104)/52\n",
    "    print(\"y = \",y)\n",
    "    return y\n"
   ]
  },
  {
   "cell_type": "code",
   "execution_count": 53,
   "metadata": {},
   "outputs": [],
   "source": [
    "def fz(y,z):\n",
    "    z = (-3*x -8*y + 71)/29\n",
    "    print(\"z = \",z)\n",
    "    return z\n"
   ]
  },
  {
   "cell_type": "code",
   "execution_count": 88,
   "metadata": {},
   "outputs": [
    {
     "name": "stdout",
     "output_type": "stream",
     "text": [
      "0  Iteration\n",
      "x =  1.144578313253012\n",
      "y =  2.0\n",
      "z =  2.4482758620689653\n",
      "\n",
      "\n",
      "1  Iteration\n",
      "x =  0.997507270461155\n",
      "y =  1.2338531846217764\n",
      "z =  1.896551724137931\n",
      "\n",
      "\n",
      "2  Iteration\n",
      "x =  1.0724556851290625\n",
      "y =  1.3915822440957464\n",
      "z =  2.10790256975951\n",
      "\n",
      "\n",
      "3  Iteration\n",
      "x =  1.061737416794998\n",
      "y =  1.328655323023518\n",
      "z =  2.0643911050770356\n",
      "\n",
      "\n",
      "4  Iteration\n",
      "x =  1.0679801911692703\n",
      "y =  1.3409760330083376\n",
      "z =  2.08175025571765\n",
      "\n",
      "\n",
      "5  Iteration\n",
      "x =  1.067183911563601\n",
      "Tolerance:  0.0007962796056693033\n"
     ]
    }
   ],
   "source": [
    "x =0  \n",
    "y =0  \n",
    "z =0\n",
    "#fx(y,z)\n",
    "#fy(x,z)\n",
    "\n",
    "def jacobi(x,y,z):\n",
    "    for i in range(15):\n",
    "        print(i,\" Iteration\")\n",
    "        x0 = fx(y,z)\n",
    "        result = tolernace(x0,x, 0.001)\n",
    "        if result != True:\n",
    "            pass\n",
    "        else:\n",
    "            break\n",
    "        y0 = fy(x,z)\n",
    "        z0 = fz(y,z)\n",
    "        x = x0\n",
    "        y = y0\n",
    "        z = z0\n",
    "        print(\"\\n\")\n",
    "    \n",
    "jacobi(x,y,z)"
   ]
  },
  {
   "cell_type": "markdown",
   "metadata": {},
   "source": [
    "LAB 10"
   ]
  },
  {
   "cell_type": "code",
   "execution_count": 87,
   "metadata": {},
   "outputs": [
    {
     "name": "stdout",
     "output_type": "stream",
     "text": [
      "0  Iteration\n",
      "x =  1.144578313253012\n",
      "y =  1.8459221501390175\n",
      "z =  1.8206513054872009\n",
      "\n",
      "\n",
      "1  Iteration\n",
      "x =  0.9876802598845735\n",
      "y =  1.411880215566815\n",
      "z =  1.9403870115760844\n",
      "\n",
      "\n",
      "2  Iteration\n",
      "x =  1.0509742852417996\n",
      "y =  1.3734259394772752\n",
      "z =  1.9509950877387159\n",
      "\n",
      "\n",
      "3  Iteration\n",
      "x =  1.0565818676711427\n",
      "y =  1.3700190535711287\n",
      "z =  1.951934918333515\n",
      "Tolerance:  0.0056075824293431165\n"
     ]
    }
   ],
   "source": [
    "def gauss_seidel(x,y,z):\n",
    "    for i in range(10):\n",
    "        print(i,\" Iteration\")\n",
    "        \n",
    "        x = fx(y,z)\n",
    "        y = fy(x,z)\n",
    "        z = fz(y,z)\n",
    "        \n",
    "        if i > 0:   #cuz on the 0th iteration the x0 is not initilized and has no value so it will give an error\n",
    "            result = tolernace(x0,x,0.01)\n",
    "            if result != True:\n",
    "                pass\n",
    "            else:\n",
    "                break\n",
    "        x0= x\n",
    "        y0 =y\n",
    "        z0 = z\n",
    "        \n",
    "        print(\"\\n\")\n",
    "   \n",
    "gauss_seidel(0,0,0)"
   ]
  },
  {
   "cell_type": "code",
   "execution_count": 85,
   "metadata": {},
   "outputs": [
    {
     "name": "stdout",
     "output_type": "stream",
     "text": [
      "x =  1.144578313253012\n",
      "y =  1.8459221501390175\n",
      "z =  1.8206513054872009\n"
     ]
    }
   ],
   "source": [
    "#x = fx(y,z)\n",
    "#y = fy(x,z)\n",
    "#z = fz(y,z)"
   ]
  }
 ],
 "metadata": {
  "kernelspec": {
   "display_name": "Python 3.8.5 ('base')",
   "language": "python",
   "name": "python3"
  },
  "language_info": {
   "codemirror_mode": {
    "name": "ipython",
    "version": 3
   },
   "file_extension": ".py",
   "mimetype": "text/x-python",
   "name": "python",
   "nbconvert_exporter": "python",
   "pygments_lexer": "ipython3",
   "version": "3.8.5"
  },
  "orig_nbformat": 4,
  "vscode": {
   "interpreter": {
    "hash": "30424d9308010dafecca22b5ec9402eef0e44005ea326a16069b35614aa41d25"
   }
  }
 },
 "nbformat": 4,
 "nbformat_minor": 2
}
