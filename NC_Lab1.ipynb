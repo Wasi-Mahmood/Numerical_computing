{
 "cells": [
  {
   "cell_type": "markdown",
   "metadata": {},
   "source": [
    "                                            NC_Lab1\n",
    "Name: Wasi Mahmood\n",
    "SID: 10578"
   ]
  },
  {
   "cell_type": "code",
   "execution_count": 32,
   "metadata": {},
   "outputs": [
    {
     "name": "stdout",
     "output_type": "stream",
     "text": [
      "True answer:  9.51398639960666\n"
     ]
    }
   ],
   "source": [
    "import math as m\n",
    "import sympy as s\n",
    "e = m.exp(0.5)\n",
    "\n",
    "x  = s.Symbol('x')\n",
    "answer_true = s.diff(7*e**x).evalf(subs ={x:2}) # with respect to x\n",
    "print(\"True answer: \",answer_true)"
   ]
  },
  {
   "cell_type": "code",
   "execution_count": 30,
   "metadata": {},
   "outputs": [
    {
     "name": "stdout",
     "output_type": "stream",
     "text": [
      "Answer Astimated:  10.264591895383516\n",
      "ERROR:  -0.750605495776858\n"
     ]
    }
   ],
   "source": [
    "#x = 2\n",
    "h = 0.3\n",
    "def fx (x):\n",
    "    e = m.exp(0.5)\n",
    "    return 7*e**x\n",
    "x1 = fx(2.3)\n",
    "x2 = fx(2)\n",
    "#print(x1)\n",
    "answer_astimated = ((x1) -x2)/h\n",
    "print(\"Answer Astimated: \",answer_astimated)\n",
    "\n",
    "print(\"ERROR: \",answer_true - answer_astimated)"
   ]
  }
 ],
 "metadata": {
  "kernelspec": {
   "display_name": "Python 3.8.5 ('Nc_virtual_env': venv)",
   "language": "python",
   "name": "python3"
  },
  "language_info": {
   "codemirror_mode": {
    "name": "ipython",
    "version": 3
   },
   "file_extension": ".py",
   "mimetype": "text/x-python",
   "name": "python",
   "nbconvert_exporter": "python",
   "pygments_lexer": "ipython3",
   "version": "3.8.5"
  },
  "orig_nbformat": 4,
  "vscode": {
   "interpreter": {
    "hash": "39aa1341a811ada0d33194e0e0d85e4272d92f6f824cb689021c18ffebc94d74"
   }
  }
 },
 "nbformat": 4,
 "nbformat_minor": 2
}
