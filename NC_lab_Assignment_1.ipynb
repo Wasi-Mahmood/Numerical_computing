{
 "cells": [
  {
   "cell_type": "markdown",
   "metadata": {},
   "source": [
    "<b><center>Name: Wasi Mahmood </center> <center><l> SID: 10578</l></center> <center><l> NC LAB ASSIGNMENT 1</l></center></b>"
   ]
  },
  {
   "cell_type": "markdown",
   "metadata": {},
   "source": [
    "<b> Question 1 </b>"
   ]
  },
  {
   "cell_type": "code",
   "execution_count": 299,
   "metadata": {},
   "outputs": [],
   "source": [
    "import math as m\n",
    "def fx1(x):\n",
    "    return (m.sqrt(x) - m.cos(x))\n",
    "    "
   ]
  },
  {
   "cell_type": "code",
   "execution_count": 300,
   "metadata": {},
   "outputs": [],
   "source": [
    "def fd_x(x,h):\n",
    "    return ((fx1(x+h) - fx1(x))/h)"
   ]
  },
  {
   "cell_type": "code",
   "execution_count": 303,
   "metadata": {},
   "outputs": [
    {
     "name": "stdout",
     "output_type": "stream",
     "text": [
      "Value of f'(2):  1.1749690372329877\n",
      "True value of f(2):  1.8303603989202375\n",
      "True Error is:  0.6553913616872498\n"
     ]
    }
   ],
   "source": [
    "Fd_x =fd_x(2,0.3)\n",
    "Fx= fx1(2)\n",
    "error = Fx - Fd_x\n",
    "print(\"Value of f'(2): \",Fd_x)\n",
    "print(\"True value of f(2): \",Fx )\n",
    "print(\"True Error is: \",error)"
   ]
  },
  {
   "cell_type": "markdown",
   "metadata": {},
   "source": [
    "<b>Question 2</b>"
   ]
  },
  {
   "cell_type": "code",
   "execution_count": 339,
   "metadata": {},
   "outputs": [],
   "source": [
    "def fx2(x):\n",
    "    return ((m.exp(-2*x) + (4*x**2)) -36)"
   ]
  },
  {
   "cell_type": "code",
   "execution_count": 356,
   "metadata": {},
   "outputs": [],
   "source": [
    "def initial_guesses_finder(function,Range,start_guess_from):\n",
    "    x = start_guess_from\n",
    "    for initial_guess in range(Range):\n",
    "        y = function(initial_guess)\n",
    "        if (y > 0 and x < 0) or (y < 0 and x > 0):\n",
    "            x_iter = initial_guess -1\n",
    "            y_iter = initial_guess\n",
    "            return_string = (f\"value of x: {x} On Iteration: {x_iter}\" , \\\n",
    "            f\"value of y: {y} On Iteration: {initial_guess}\")  \n",
    "            \n",
    "            return return_string, initial_guess-1,initial_guess\n",
    "            break\n",
    "        else:\n",
    "            pass\n",
    "        x = y"
   ]
  },
  {
   "cell_type": "code",
   "execution_count": 359,
   "metadata": {},
   "outputs": [],
   "source": [
    "#a,XL,XU=initial_guesses_finder(fx2,10,0)\n",
    "#a"
   ]
  },
  {
   "cell_type": "code",
   "execution_count": 341,
   "metadata": {},
   "outputs": [],
   "source": [
    "def secent(function,x,y):\n",
    "    return x - (function(x)*(x-y))/(function(x)-function(y))\n",
    "\n",
    "\n",
    "\n",
    "\n",
    "\n",
    "\n",
    "## print(Wasi)\n"
   ]
  },
  {
   "cell_type": "code",
   "execution_count": 342,
   "metadata": {},
   "outputs": [],
   "source": [
    "def tolernace(greater_value, smaller_value,tol):\n",
    "    result =abs(greater_value - smaller_value)\n",
    "    true = True\n",
    "    false = False\n",
    "    \n",
    "    if result <= tol:\n",
    "        #print(\"Tolerance: \", result)\n",
    "        return false ,result\n",
    "    else:\n",
    "        return true, result"
   ]
  },
  {
   "cell_type": "code",
   "execution_count": 372,
   "metadata": {},
   "outputs": [],
   "source": [
    "def roots_from_secent_mtd_with_tolerance(function, range_for_initial_guesses, \n",
    "                                         start_guess_from,tolerance_var):\n",
    "\n",
    "    a,XL,XU = initial_guesses_finder(function,range_for_initial_guesses, \n",
    "                                     start_guess_from)\n",
    "    \n",
    "    iteration = 0\n",
    "    loop_cond = True\n",
    "    \n",
    "    print(\"Iteration \\t XL\\t\\t XU\\t\\t XR  \\t\\t Tolerance\")\n",
    "    \n",
    "    while loop_cond is True:\n",
    "        secent_result = secent(function,XL,XU)\n",
    "        \n",
    "        loop_cond,tol = tolernace(secent_result,XU,tolerance_var)\n",
    "        print(iteration,    \"\\t\\t\",\"{:f}\".format(XL)    ,   \"\\t\",\n",
    "              \"{:f}\".format(XU),   \"\\t\",\n",
    "              \"{:f}\".format(secent_result)  , \"\\t\",\"{:f}\".format(tol)   )\n",
    "        \n",
    "        XL = XU\n",
    "        XU = secent_result\n",
    "        iteration = iteration+1\n",
    "\n"
   ]
  },
  {
   "cell_type": "code",
   "execution_count": 373,
   "metadata": {},
   "outputs": [
    {
     "name": "stdout",
     "output_type": "stream",
     "text": [
      "Iteration \t XL\t\t XU\t\t XR  \t\t Tolerance\n",
      "0 \t\t 2.000000 \t 3.000000 \t 2.999876 \t 0.000124\n",
      "1 \t\t 3.000000 \t 2.999876 \t 2.999897 \t 0.000021\n",
      "2 \t\t 2.999876 \t 2.999897 \t 2.999897 \t 0.000000\n"
     ]
    }
   ],
   "source": [
    "roots_from_secent_mtd_with_tolerance(fx2,10,0,0.00001)"
   ]
  },
  {
   "cell_type": "markdown",
   "metadata": {},
   "source": [
    "<b>Question 3</b>"
   ]
  },
  {
   "cell_type": "code",
   "execution_count": 118,
   "metadata": {},
   "outputs": [],
   "source": [
    "import sympy as s"
   ]
  },
  {
   "cell_type": "code",
   "execution_count": 307,
   "metadata": {},
   "outputs": [],
   "source": [
    "def fx3(x):\n",
    "    return ((2*x - s.exp(x) + 3*s.cos(x)).evalf())\n",
    "\n",
    "#fx(3)"
   ]
  },
  {
   "cell_type": "code",
   "execution_count": 320,
   "metadata": {},
   "outputs": [
    {
     "data": {
      "text/plain": [
       "1"
      ]
     },
     "execution_count": 320,
     "metadata": {},
     "output_type": "execute_result"
    }
   ],
   "source": [
    "a,XL,XU=initial_guesses_finder(fx3,10,3)\n",
    "XL"
   ]
  },
  {
   "cell_type": "code",
   "execution_count": 295,
   "metadata": {},
   "outputs": [],
   "source": [
    "def diff_one_var_equation(function):\n",
    "    x = s.symbols('x')\n",
    "    return s.diff(function(x),x)\n",
    " \n",
    " \n",
    " \n",
    " \n",
    "#diff_one_var_equation(fx).subs({x:4}).evalf()"
   ]
  },
  {
   "cell_type": "code",
   "execution_count": 395,
   "metadata": {},
   "outputs": [],
   "source": [
    "def  newton_Raphson_with_tolerance(function, range_for_initial_guesses, \n",
    "                                   start_guess_from ,tolrence_var):\n",
    "    \n",
    "    # \"initial_guesses_finder\" is defined in Question 2\n",
    "    st,XL,XU = initial_guesses_finder(function,range_for_initial_guesses,\n",
    "                                      start_guess_from)\n",
    "    y = XL\n",
    "    iteration = 0\n",
    "    loop_cond = True\n",
    "    print(\"Iteration \\t XL\\t XU\\t XR  \\t\\t\\t Tolerance\")\n",
    "    while loop_cond is True:\n",
    "        result = y - (function(y)/\n",
    "                      (diff_one_var_equation(function).subs({x:y}).evalf())) \n",
    "        \n",
    "        #\"tolernace\" is defined in Question 2\n",
    "        loop_cond, tol = tolernace(result,y,tolrence_var)\n",
    "        y = result\n",
    "        print(iteration,\"\\t\\t\",XL,\"\\t\\t\",result, \"\\t\",\"{:f}\".format(tol))\n",
    "        \n",
    "        iteration = iteration + 1"
   ]
  },
  {
   "cell_type": "code",
   "execution_count": 406,
   "metadata": {},
   "outputs": [
    {
     "name": "stdout",
     "output_type": "stream",
     "text": [
      "Iteration \t XL\t XU\t XR  \t\t\t Tolerance\n",
      "0 \t\t 1 \t\t 1.27835647496338 \t 0.278356474963378\n",
      "1 \t\t 1 \t\t 1.24045850158629 \t 0.0378979733770886\n",
      "2 \t\t 1 \t\t 1.23971498330063 \t 0.000743518285654776\n",
      "3 \t\t 1 \t\t 1.23971469797526 \t 0.000000285325375104506\n"
     ]
    }
   ],
   "source": [
    "\n",
    "newton_Raphson_with_tolerance(fx3,10,0,0.00001)"
   ]
  }
 ],
 "metadata": {
  "kernelspec": {
   "display_name": "Python 3.8.5 ('base')",
   "language": "python",
   "name": "python3"
  },
  "language_info": {
   "codemirror_mode": {
    "name": "ipython",
    "version": 3
   },
   "file_extension": ".py",
   "mimetype": "text/x-python",
   "name": "python",
   "nbconvert_exporter": "python",
   "pygments_lexer": "ipython3",
   "version": "3.8.5"
  },
  "orig_nbformat": 4,
  "vscode": {
   "interpreter": {
    "hash": "30424d9308010dafecca22b5ec9402eef0e44005ea326a16069b35614aa41d25"
   }
  }
 },
 "nbformat": 4,
 "nbformat_minor": 2
}
