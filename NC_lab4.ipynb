{
 "cells": [
  {
   "cell_type": "markdown",
   "metadata": {},
   "source": [
    "NAME: WASI MAHMOOD\n",
    "SID: 10578\n",
    "LAB: 4"
   ]
  },
  {
   "cell_type": "code",
   "execution_count": 1,
   "metadata": {},
   "outputs": [],
   "source": [
    "def fx(x):\n",
    "    return x**3+x-1\n"
   ]
  },
  {
   "cell_type": "code",
   "execution_count": 9,
   "metadata": {},
   "outputs": [],
   "source": [
    "import math as m\n",
    "def fx1(x):\n",
    "    return m.cos(x)-(1.3*x)"
   ]
  },
  {
   "cell_type": "code",
   "execution_count": 11,
   "metadata": {},
   "outputs": [],
   "source": [
    "def fx2(x):\n",
    "    return (x*m.cos(x)-(2*x**2 +3*x-1))"
   ]
  },
  {
   "cell_type": "code",
   "execution_count": 10,
   "metadata": {},
   "outputs": [],
   "source": [
    "def fx3(x):\n",
    "    return (2*x*m.cos(2*x)) - ((x+1)*2)"
   ]
  },
  {
   "cell_type": "code",
   "execution_count": 17,
   "metadata": {},
   "outputs": [],
   "source": [
    "def secent(x,y):\n",
    "    return x - (fx3(x)*(x-y))/(fx3(x)-fx3(y))"
   ]
  },
  {
   "cell_type": "code",
   "execution_count": 13,
   "metadata": {},
   "outputs": [],
   "source": [
    "def tolrence(greater_val,smaller_val,tolr):\n",
    "    #print(\"Greater val\" ,greater_val ,\"and smaller val\", smaller_val)\n",
    "    result = abs(greater_val - smaller_val)\n",
    "    #print(\"Result: \", result)\n",
    "    \n",
    "    \n",
    "    if result <= tolr:\n",
    "        #print(\"The tol is True\")\n",
    "        return True\n",
    "        \n",
    "    else:\n",
    "        #print(\"The tol is False\") \n",
    "        return False\n",
    "        \n",
    "    \n",
    "    \n",
    "#tolrence(1,2,1)"
   ]
  },
  {
   "cell_type": "code",
   "execution_count": 13,
   "metadata": {},
   "outputs": [
    {
     "name": "stdout",
     "output_type": "stream",
     "text": [
      "Root Values at iteration 0  is:  0.5682794285261287\n",
      "value of y:  1 \n",
      "\n",
      "Root Values at iteration 1  is:  0.6202925351778242\n",
      "value of y:  0.5682794285261287 \n",
      "\n",
      "Root Values at iteration 2  is:  0.6242327112113022\n",
      "value of y:  0.6202925351778242 \n",
      "\n",
      "Root Values at iteration 3  is:  0.6241845373996717\n",
      "Loop break\n"
     ]
    }
   ],
   "source": [
    "#for fx1(x)\n",
    "x = 0\n",
    "y = 1\n",
    "\n",
    "for i in range(10):\n",
    "    secent_result = secent(x , y)\n",
    "    print(\"Root Values at iteration\" ,i, \" is: \", secent_result)\n",
    "    \n",
    "    tol = tolrence(secent_result,y,0.001)\n",
    "    \n",
    "    if tol is True:\n",
    "        print(\"Loop break\")\n",
    "        break\n",
    "    x = y\n",
    "    \n",
    "    print(\"value of y: \", y,\"\\n\")\n",
    "    y = secent_result\n",
    "    \n"
   ]
  },
  {
   "cell_type": "code",
   "execution_count": 16,
   "metadata": {},
   "outputs": [
    {
     "name": "stdout",
     "output_type": "stream",
     "text": [
      "Root Values at iteration 0  is:  0.22423044533171288\n",
      "value of y:  1 \n",
      "\n",
      "Root Values at iteration 1  is:  0.3127058501144693\n",
      "value of y:  0.22423044533171288 \n",
      "\n",
      "Root Values at iteration 2  is:  0.36420256353015945\n",
      "value of y:  0.3127058501144693 \n",
      "\n",
      "Root Values at iteration 3  is:  0.3592125677872767\n",
      "value of y:  0.36420256353015945 \n",
      "\n",
      "Root Values at iteration 4  is:  0.3593720382339458\n",
      "value of y:  0.3592125677872767 \n",
      "\n",
      "Root Values at iteration 5  is:  0.3593725738162093\n",
      "Loop break\n"
     ]
    }
   ],
   "source": [
    "#for fx2(x)\n",
    "x = 0\n",
    "y = 1\n",
    "\n",
    "for i in range(10):\n",
    "    secent_result = secent(x , y)\n",
    "    print(\"Root Values at iteration\" ,i, \" is: \", secent_result)\n",
    "    \n",
    "    tol = tolrence(secent_result,y,0.0001)\n",
    "    \n",
    "    if tol is True:\n",
    "        print(\"Loop break\")\n",
    "        break\n",
    "    x = y\n",
    "    \n",
    "    print(\"value of y: \", y,\"\\n\")\n",
    "    y = secent_result\n",
    "    "
   ]
  },
  {
   "cell_type": "code",
   "execution_count": 23,
   "metadata": {},
   "outputs": [
    {
     "name": "stdout",
     "output_type": "stream",
     "text": [
      "Root Values at iteration 0  is:  -0.706141463718696\n",
      "value of y:  -1 \n",
      "\n",
      "Root Values at iteration 1  is:  -0.8511348124350965\n",
      "value of y:  -0.706141463718696 \n",
      "\n",
      "Root Values at iteration 2  is:  -0.8658240511347899\n",
      "value of y:  -0.8511348124350965 \n",
      "\n",
      "Root Values at iteration 3  is:  -0.864244142267373\n",
      "value of y:  -0.8658240511347899 \n",
      "\n",
      "Root Values at iteration 4  is:  -0.8642565708976652\n",
      "Loop break\n"
     ]
    }
   ],
   "source": [
    "#for fx3(x)\n",
    "x = 0\n",
    "y = -1\n",
    "\n",
    "for i in range(10):\n",
    "    secent_result = secent(x , y)\n",
    "    print(\"Root Values at iteration\" ,i, \" is: \", secent_result)\n",
    "    \n",
    "    tol = tolrence(secent_result,y,0.0001)\n",
    "    \n",
    "    if tol is True:\n",
    "        print(\"Loop break\")\n",
    "        break\n",
    "    x = y\n",
    "    \n",
    "    print(\"value of y: \", y,\"\\n\")\n",
    "    y = secent_result\n",
    "    "
   ]
  }
 ],
 "metadata": {
  "interpreter": {
   "hash": "30424d9308010dafecca22b5ec9402eef0e44005ea326a16069b35614aa41d25"
  },
  "kernelspec": {
   "display_name": "Python 3.8.5 ('base')",
   "language": "python",
   "name": "python3"
  },
  "language_info": {
   "codemirror_mode": {
    "name": "ipython",
    "version": 3
   },
   "file_extension": ".py",
   "mimetype": "text/x-python",
   "name": "python",
   "nbconvert_exporter": "python",
   "pygments_lexer": "ipython3",
   "version": "3.8.5"
  },
  "orig_nbformat": 4
 },
 "nbformat": 4,
 "nbformat_minor": 2
}
