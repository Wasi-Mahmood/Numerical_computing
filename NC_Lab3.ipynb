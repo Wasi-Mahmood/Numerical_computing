{
 "cells": [
  {
   "cell_type": "code",
   "execution_count": 1,
   "metadata": {},
   "outputs": [],
   "source": [
    "#def fx(x):\n",
    "#    return x**3 -4*x -9"
   ]
  },
  {
   "cell_type": "code",
   "execution_count": 74,
   "metadata": {},
   "outputs": [],
   "source": [
    "import math as m\n",
    "def fx(x):\n",
    "    return m.cos(x)-(1.3*x)"
   ]
  },
  {
   "cell_type": "code",
   "execution_count": 87,
   "metadata": {},
   "outputs": [],
   "source": [
    "def fx1(x):\n",
    "    return (x*m.cos(x)-(2*x**2 +3*x-1))"
   ]
  },
  {
   "cell_type": "code",
   "execution_count": 91,
   "metadata": {},
   "outputs": [],
   "source": [
    "def fx2(x):\n",
    "    return (2*x*m.cos(2*x)) - ((x+1)*2)"
   ]
  },
  {
   "cell_type": "code",
   "execution_count": 92,
   "metadata": {},
   "outputs": [],
   "source": [
    "def regular_false(x,y):\n",
    "    return((x*fx2(y) - y*fx2(x))/(fx2(y) - fx2(x)))\n"
   ]
  },
  {
   "cell_type": "code",
   "execution_count": 65,
   "metadata": {},
   "outputs": [
    {
     "name": "stdout",
     "output_type": "stream",
     "text": [
      "True\n"
     ]
    }
   ],
   "source": [
    "def tolrence(greater_val,smaller_val,tolr):\n",
    "    result = greater_val - smaller_val \n",
    "    if result <= tolr:\n",
    "        return True\n",
    "    \n",
    "    else: \n",
    "        return False\n",
    "    \n",
    "    \n",
    "result = tolrence(0.128,0.153,0.01)\n",
    "print(result) "
   ]
  },
  {
   "cell_type": "code",
   "execution_count": 96,
   "metadata": {},
   "outputs": [
    {
     "name": "stdout",
     "output_type": "stream",
     "text": [
      "\n",
      " 0 Iteration\n",
      "Midpoint:  -0.706141463718696\n",
      "function value: -0.8106465235520532\n",
      "Value of x in  0  iteration:  -0.706141463718696\n",
      "\n",
      " 1 Iteration\n",
      "Midpoint:  -0.8511348124350964\n",
      "function value: -0.07457156398965431\n",
      "Value of x in  1  iteration:  -0.8511348124350964\n",
      "\n",
      " 2 Iteration\n",
      "Midpoint:  -0.8633760026432734\n",
      "function value: -0.0050415345260026445\n",
      "Value of x in  2  iteration:  -0.8633760026432734\n",
      "\n",
      " 3 Iteration\n",
      "Midpoint:  -0.8641986058175887\n",
      "function value: -0.00033209312935794655\n",
      "Value of x in  3  iteration:  -0.8641986058175887\n",
      "\n",
      " 4 Iteration\n",
      "Midpoint:  -0.8642527702595201\n",
      "function value: -2.1837237356936434e-05\n",
      "Value of x in  4  iteration:  -0.8642527702595201\n",
      "\n",
      " 5 Iteration\n",
      "Midpoint:  -0.8642563318229413\n",
      "function value: -1.4357720578561661e-06\n",
      "Value of x in  5  iteration:  -0.8642563318229413\n",
      "\n",
      " 6 Iteration\n",
      "Midpoint:  -0.8642565659910433\n",
      "function value: -9.439956794032867e-08\n",
      "Value of x in  6  iteration:  -0.8642565659910433\n",
      "\n",
      " 7 Iteration\n",
      "Midpoint:  -0.8642565813871955\n",
      "function value: -6.206607616743298e-09\n",
      "Value of x in  7  iteration:  -0.8642565813871955\n",
      "\n",
      " 8 Iteration\n",
      "Midpoint:  -0.8642565823994658\n",
      "function value: -4.0807363044237377e-10\n",
      "Value of x in  8  iteration:  -0.8642565823994658\n",
      "\n",
      " 9 Iteration\n",
      "Midpoint:  -0.8642565824660208\n",
      "function value: -2.6830204724603846e-11\n",
      "Value of x in  9  iteration:  -0.8642565824660208\n",
      "Total iterations:   10\n"
     ]
    }
   ],
   "source": [
    "x = 0\n",
    "y= -1\n",
    "i =0\n",
    "while i!=10:\n",
    "    print(\"\\n\",i,\"Iteration\")\n",
    "    \n",
    "    regular_false_m = regular_false(x,y)\n",
    "    print(\"Midpoint: \", regular_false_m)\n",
    "    \n",
    "    \n",
    "    result = fx2(regular_false_m)\n",
    "    print(\"function value:\" ,result)\n",
    "    \n",
    "    if result < 0:\n",
    "        x = regular_false_m\n",
    "        print(\"Value of x in \",i,\" iteration: \",x)\n",
    "        \n",
    "    elif result > 0:\n",
    "        y = regular_false_m\n",
    "        print(\"Value of y in \",i,\" iteration: \",y)\n",
    "    i = i+1\n",
    "    j =i\n",
    "    if j == 10:\n",
    "        print(\"Total iterations:  \", j)\n",
    "    \n",
    "    tol = tolrence(y,x, 0.001)\n",
    "    #if tol is True:\n",
    "    #    break\n",
    "    "
   ]
  },
  {
   "cell_type": "code",
   "execution_count": null,
   "metadata": {},
   "outputs": [],
   "source": []
  }
 ],
 "metadata": {
  "interpreter": {
   "hash": "30424d9308010dafecca22b5ec9402eef0e44005ea326a16069b35614aa41d25"
  },
  "kernelspec": {
   "display_name": "Python 3.8.5 ('base')",
   "language": "python",
   "name": "python3"
  },
  "language_info": {
   "codemirror_mode": {
    "name": "ipython",
    "version": 3
   },
   "file_extension": ".py",
   "mimetype": "text/x-python",
   "name": "python",
   "nbconvert_exporter": "python",
   "pygments_lexer": "ipython3",
   "version": "3.8.5"
  },
  "orig_nbformat": 4
 },
 "nbformat": 4,
 "nbformat_minor": 2
}
