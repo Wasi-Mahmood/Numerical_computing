{
 "cells": [
  {
   "cell_type": "markdown",
   "metadata": {},
   "source": [
    "                                            NC_LAB2\n",
    "Name: Wasi Mahmood\n",
    "SID: 10578"
   ]
  },
  {
   "cell_type": "code",
   "execution_count": 83,
   "metadata": {},
   "outputs": [],
   "source": [
    "x1 = 3\n",
    "x2 = 5\n",
    "y1 = 36\n",
    "y2 = 100\n",
    "sloap = (y2 -y1)/(x2 - x1)\n",
    "#sloap"
   ]
  },
  {
   "cell_type": "code",
   "execution_count": 82,
   "metadata": {},
   "outputs": [],
   "source": [
    "def fx (x):\n",
    "    return 4*x**2\n",
    "#fx(3)"
   ]
  },
  {
   "cell_type": "code",
   "execution_count": 15,
   "metadata": {},
   "outputs": [
    {
     "name": "stdout",
     "output_type": "stream",
     "text": [
      "24\n"
     ]
    }
   ],
   "source": [
    "import sympy as s\n",
    "\n",
    "x = s.Symbol('x')\n",
    "a=3\n",
    "x1 = fx(x)\n",
    "#print(x1)\n",
    "x2 = fx(a)\n",
    "result = s.limit((fx(x)- fx(a))/(x-a), x, a)\n",
    "print(result)"
   ]
  },
  {
   "cell_type": "code",
   "execution_count": 45,
   "metadata": {},
   "outputs": [],
   "source": [
    "def fx1(x):\n",
    "    return x**3 - 4*x -9"
   ]
  },
  {
   "cell_type": "code",
   "execution_count": 35,
   "metadata": {},
   "outputs": [
    {
     "data": {
      "text/plain": [
       "-0.1875"
      ]
     },
     "execution_count": 35,
     "metadata": {},
     "output_type": "execute_result"
    }
   ],
   "source": [
    "def midpoint(x,y):\n",
    "    \n",
    "    return((x+y)/2)\n",
    "midpoint(-3.375,3)"
   ]
  },
  {
   "cell_type": "code",
   "execution_count": 44,
   "metadata": {},
   "outputs": [
    {
     "name": "stdout",
     "output_type": "stream",
     "text": [
      "Value of x in  0  iteration:  2.5\n",
      "Value of y in  1  iteration:  2.75\n",
      "Value of x in  2  iteration:  2.625\n",
      "Value of x in  3  iteration:  2.6875\n",
      "Value of y in  4  iteration:  2.71875\n",
      "Value of x in  5  iteration:  2.703125\n",
      "Value of y in  6  iteration:  2.7109375\n",
      "Value of y in  7  iteration:  2.70703125\n",
      "Value of x in  8  iteration:  2.705078125\n",
      "Value of x in  9  iteration:  2.7060546875\n"
     ]
    }
   ],
   "source": [
    "x=2\n",
    "y=3\n",
    "for i in range(10):\n",
    "    #print(\"x: \",x)\n",
    "    #print(\"y: \",y)\n",
    "    res = midpoint(x,y)\n",
    "    #print (\"midpoint: \",res)\n",
    "    \n",
    "    result = fx1(res)\n",
    "    #print(\"function value:\" ,result)\n",
    "    if result < 0:\n",
    "        x = res\n",
    "        print(\"Value of x in \",i,\" iteration: \",x)\n",
    "    elif result > 0:\n",
    "        y = res\n",
    "        print(\"Value of y in \",i,\" iteration: \",y)\n"
   ]
  },
  {
   "cell_type": "code",
   "execution_count": 53,
   "metadata": {},
   "outputs": [
    {
     "name": "stdout",
     "output_type": "stream",
     "text": [
      "1.0\n",
      "-0.7596976941318603\n",
      "-3.0161468365471427\n",
      "-4.8899924966004455\n",
      "-5.853643620863612\n"
     ]
    }
   ],
   "source": [
    "import math as m\n",
    "def fx2(x):\n",
    "    return (m.cos(x)-1.3*x -0)\n",
    "\n",
    "for i in range (5):\n",
    "    print(fx2(i))"
   ]
  },
  {
   "cell_type": "code",
   "execution_count": 50,
   "metadata": {},
   "outputs": [
    {
     "name": "stdout",
     "output_type": "stream",
     "text": [
      "Value of x in  0  iteration:  1\n",
      "Value of y in  1  iteration:  0.5\n",
      "Value of y in  2  iteration:  0.5\n",
      "Value of x in  3  iteration:  0.625\n",
      "Value of x in  4  iteration:  0.625\n",
      "Value of x in  5  iteration:  0.625\n",
      "Value of x in  6  iteration:  0.625\n",
      "Value of x in  7  iteration:  0.625\n",
      "Value of x in  8  iteration:  0.625\n",
      "Value of x in  9  iteration:  0.625\n"
     ]
    }
   ],
   "source": [
    "x= 0\n",
    "y =1\n",
    "for i in range(10):\n",
    "    #print(\"x: \",x)\n",
    "    #print(\"y: \",y)\n",
    "    res = midpoint(x,y)\n",
    "    #print (\"midpoint: \",res)\n",
    "    \n",
    "    result = fx2(res)\n",
    "    #print(\"function value:\" ,result)\n",
    "    if result < 0:\n",
    "        y = res\n",
    "        print(\"Value of y in \",i,\" iteration: \",x)\n",
    "    elif result > 0:\n",
    "        x = res\n",
    "        print(\"Value of x in \",i,\" iteration: \",y)\n",
    "    \n",
    "    "
   ]
  },
  {
   "cell_type": "code",
   "execution_count": 52,
   "metadata": {},
   "outputs": [
    {
     "name": "stdout",
     "output_type": "stream",
     "text": [
      "-1.0\n",
      "0.5403023058681398\n",
      "-3.8322936730942843\n",
      "-12.969977489801337\n",
      "-23.614574483454447\n"
     ]
    }
   ],
   "source": [
    "def fx3 (x):\n",
    "    return(x* m.cos(x) -2*x**2 +3*x -1)\n",
    "\n",
    "#for i in range(5):\n",
    "#    print(fx3(i))"
   ]
  },
  {
   "cell_type": "code",
   "execution_count": 56,
   "metadata": {},
   "outputs": [
    {
     "name": "stdout",
     "output_type": "stream",
     "text": [
      "Value of x in  0  iteration:  0.5\n",
      "Value of y in  1  iteration:  0.25\n",
      "Value of x in  2  iteration:  0.375\n",
      "Value of x in  3  iteration:  0.3125\n",
      "Value of y in  4  iteration:  0.28125\n",
      "Value of y in  5  iteration:  0.296875\n",
      "Value of x in  6  iteration:  0.3046875\n",
      "Value of x in  7  iteration:  0.30078125\n",
      "Value of x in  8  iteration:  0.298828125\n",
      "Value of x in  9  iteration:  0.2978515625\n",
      "Value of y in  10  iteration:  0.29736328125\n",
      "Value of x in  11  iteration:  0.297607421875\n",
      "Value of y in  12  iteration:  0.2974853515625\n",
      "Value of x in  13  iteration:  0.29754638671875\n",
      "Value of y in  14  iteration:  0.297515869140625\n"
     ]
    }
   ],
   "source": [
    "x= 0\n",
    "y =1\n",
    "for i in range(15):\n",
    "    #print(\"x: \",x)\n",
    "    #print(\"y: \",y)\n",
    "    res = midpoint(x,y)\n",
    "    #print (\"midpoint: \",res)\n",
    "    \n",
    "    result = fx3(res)\n",
    "    #print(\"function value:\" ,result)\n",
    "    if result < 0:\n",
    "        x = res\n",
    "        print(\"Value of y in \",i,\" iteration: \",x)\n",
    "    elif result > 0:\n",
    "        y = res\n",
    "        print(\"Value of x in \",i,\" iteration: \",y)\n",
    "    "
   ]
  },
  {
   "cell_type": "code",
   "execution_count": 80,
   "metadata": {},
   "outputs": [],
   "source": [
    "def fx4 (x):\n",
    "    return(2*x * m.cos(2*x) - (x+1)**2)\n",
    "\n",
    "\n",
    "#for i in range(20):\n",
    "#    print(fx4(i))\n",
    "    \n",
    "    \n",
    "##since there is no positve value so we leave this situation here and see it later..."
   ]
  },
  {
   "cell_type": "code",
   "execution_count": 81,
   "metadata": {},
   "outputs": [],
   "source": [
    "def fx5(x):\n",
    "    return(x**3 - 0.165*x**2 +3.993*10**-4)\n",
    "\n",
    "#for i in range(-1,20):\n",
    "    #print(fx5(i))"
   ]
  },
  {
   "cell_type": "code",
   "execution_count": 87,
   "metadata": {},
   "outputs": [
    {
     "name": "stdout",
     "output_type": "stream",
     "text": [
      "\n",
      " 0 Iteration\n",
      "midpoint:  -0.5\n",
      "function value: -3.4387912809451864\n",
      "Value of x in  0  iteration:  -0.5\n",
      "Relative Error:  1.0\n",
      "\n",
      " 1 Iteration\n",
      "midpoint:  -0.25\n",
      "function value: -2.117228105427661\n",
      "Value of x in  1  iteration:  -0.25\n",
      "Relative Error:  1.0\n",
      "\n",
      " 2 Iteration\n",
      "midpoint:  -0.125\n",
      "function value: -1.530274708403666\n",
      "Value of x in  2  iteration:  -0.125\n",
      "Relative Error:  1.0\n"
     ]
    }
   ],
   "source": [
    "x= -1\n",
    "y =0\n",
    "for i in range(3):\n",
    "    print(\"\\n\",i,\"Iteration\")\n",
    "    #print(\"x: \",x)\n",
    "    #print(\"y: \",y)\n",
    "    res = midpoint(x,y)\n",
    "    print (\"midpoint: \",res)\n",
    "    \n",
    "    result = fx3(res)\n",
    "    print(\"function value:\" ,result)\n",
    "    if result < 0:\n",
    "        x = res\n",
    "        print(\"Value of x in \",i,\" iteration: \",x)\n",
    "    elif result > 0:\n",
    "        y = res\n",
    "        print(\"Value of y in \",i,\" iteration: \",y)\n",
    "    \n",
    "    Approx_error = x - y# wrong method of error     check the notebook for solution\n",
    "    relative_error = Approx_error/ x\n",
    "    print(\"Relative Error: \", relative_error)"
   ]
  }
 ],
 "metadata": {
  "interpreter": {
   "hash": "30424d9308010dafecca22b5ec9402eef0e44005ea326a16069b35614aa41d25"
  },
  "kernelspec": {
   "display_name": "Python 3.8.5 ('base')",
   "language": "python",
   "name": "python3"
  },
  "language_info": {
   "codemirror_mode": {
    "name": "ipython",
    "version": 3
   },
   "file_extension": ".py",
   "mimetype": "text/x-python",
   "name": "python",
   "nbconvert_exporter": "python",
   "pygments_lexer": "ipython3",
   "version": "3.8.5"
  },
  "orig_nbformat": 4,
  "vscode": {
   "interpreter": {
    "hash": "30424d9308010dafecca22b5ec9402eef0e44005ea326a16069b35614aa41d25"
   }
  }
 },
 "nbformat": 4,
 "nbformat_minor": 2
}
