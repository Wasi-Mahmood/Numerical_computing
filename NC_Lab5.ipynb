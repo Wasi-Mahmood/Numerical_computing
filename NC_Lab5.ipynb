{
 "cells": [
  {
   "cell_type": "code",
   "execution_count": 84,
   "metadata": {},
   "outputs": [],
   "source": [
    "import math as m\n",
    "\n",
    "def fx1(x):\n",
    "    return (m.cos(x) - 1.3*x)"
   ]
  },
  {
   "cell_type": "code",
   "execution_count": 136,
   "metadata": {},
   "outputs": [],
   "source": [
    "def fx2(x):\n",
    "    return ((x*m.cos(x)) - (2*x**2)+ (3*x) -1)"
   ]
  },
  {
   "cell_type": "code",
   "execution_count": 138,
   "metadata": {},
   "outputs": [
    {
     "data": {
      "text/plain": [
       "-2.003986684431752"
      ]
     },
     "execution_count": 138,
     "metadata": {},
     "output_type": "execute_result"
    }
   ],
   "source": [
    "def fx3(x):\n",
    "    return (2*x*m.cos(2*x) - ((x+1)*2))\n",
    "fx3(0.1)"
   ]
  },
  {
   "cell_type": "code",
   "execution_count": 87,
   "metadata": {},
   "outputs": [],
   "source": [
    "def Diff_of_fx1(x):\n",
    "    return (- m.sin(x) -1.3)"
   ]
  },
  {
   "cell_type": "code",
   "execution_count": 118,
   "metadata": {},
   "outputs": [
    {
     "data": {
      "text/plain": [
       "4.0"
      ]
     },
     "execution_count": 118,
     "metadata": {},
     "output_type": "execute_result"
    }
   ],
   "source": [
    "def Diff_of_fx2(x):\n",
    "        return m.cos(x)-x*m.sin(x)-4*x+3\n",
    "\n",
    "Diff_of_fx2(0)"
   ]
  },
  {
   "cell_type": "code",
   "execution_count": 124,
   "metadata": {},
   "outputs": [
    {
     "data": {
      "text/plain": [
       "-0.3193345766355411"
      ]
     },
     "execution_count": 124,
     "metadata": {},
     "output_type": "execute_result"
    }
   ],
   "source": [
    "def Diff_of_fx3(x):\n",
    "    return 2*m.cos(2*x) - 4*x*m.sin(2*x) - 2*x - 2\n",
    "\n",
    "Diff_of_fx3(0.1)"
   ]
  },
  {
   "cell_type": "code",
   "execution_count": 89,
   "metadata": {},
   "outputs": [],
   "source": [
    "def tolrence(greater_val,smaller_val,tolr):\n",
    "    #print(\"Greater val\" ,greater_val ,\"and smaller val\", smaller_val)\n",
    "    result = abs(greater_val - smaller_val)\n",
    "    #print(\"Result: \", result)\n",
    "    \n",
    "    \n",
    "    if result <= tolr:\n",
    "        #print(\"The tol is True\")\n",
    "        return True\n",
    "        \n",
    "    else:\n",
    "        #print(\"The tol is False\") \n",
    "        return False\n",
    "        \n",
    "    \n",
    "    \n",
    "#tolrence(1,2,1)"
   ]
  },
  {
   "cell_type": "code",
   "execution_count": 90,
   "metadata": {},
   "outputs": [],
   "source": [
    "#for fx1(x)\n",
    "import sympy as s\n",
    "\n",
    "def  newton_Raphson_with_tolerance(initial_point,range_num,tolrence_var):\n",
    "    x = initial_point\n",
    "    \n",
    "    for i in range(range_num):\n",
    "        result = x - (fx1(x)/Diff_of_fx1(x))\n",
    "        \n",
    "        tol = tolrence(x,result,tolrence_var)\n",
    "        x = result\n",
    "        \n",
    "        print(\"Root at \", i,\" iteration : \",result )\n",
    "        \n",
    "        if tol is True:\n",
    "            print(\"Loop break on Tolarence \",tolrence_var)\n",
    "            break\n",
    "    "
   ]
  },
  {
   "cell_type": "code",
   "execution_count": 91,
   "metadata": {},
   "outputs": [
    {
     "name": "stdout",
     "output_type": "stream",
     "text": [
      "Root at  0  iteration :  0.7692307692307692\n",
      "Root at  1  iteration :  0.6281421333302967\n",
      "Root at  2  iteration :  0.624187937754811\n",
      "Loop break on Tolarence  0.01\n",
      "Root at  0  iteration :  0.7692307692307692\n",
      "Root at  1  iteration :  0.6281421333302967\n",
      "Root at  2  iteration :  0.624187937754811\n",
      "Root at  3  iteration :  0.6241845778065529\n",
      "Loop break on Tolarence  0.001\n",
      "Root at  0  iteration :  0.7692307692307692\n",
      "Root at  1  iteration :  0.6281421333302967\n",
      "Root at  2  iteration :  0.624187937754811\n",
      "Root at  3  iteration :  0.6241845778065529\n",
      "Loop break on Tolarence  0.0001\n"
     ]
    }
   ],
   "source": [
    "newton_Raphson_with_tolerance(0,5,0.01)\n",
    "newton_Raphson_with_tolerance(0,5,0.001)\n",
    "newton_Raphson_with_tolerance(0,5,0.0001)\n"
   ]
  },
  {
   "cell_type": "code",
   "execution_count": 105,
   "metadata": {},
   "outputs": [],
   "source": [
    "#for fx2(x)\n",
    "import sympy as s\n",
    "\n",
    "def  newton_Raphson_with_tolerance(initial_point,range_num,tolrence_var):\n",
    "    x = initial_point\n",
    "    \n",
    "    for i in range(range_num):\n",
    "        result = x - (fx2(x)/Diff_of_fx2(x))\n",
    "        \n",
    "        tol = tolrence(x,result,tolrence_var)\n",
    "        x = result\n",
    "        \n",
    "        print(\"Root at \", i,\" iteration : \",result )\n",
    "        \n",
    "        if tol is True:\n",
    "            print(\"Loop break on Tolarence \",tolrence_var)\n",
    "            break\n",
    "    "
   ]
  },
  {
   "cell_type": "code",
   "execution_count": 106,
   "metadata": {},
   "outputs": [
    {
     "name": "stdout",
     "output_type": "stream",
     "text": [
      "Root at  0  iteration :  0.25\n",
      "Root at  1  iteration :  0.29567220118416904\n",
      "Root at  2  iteration :  0.2975271077619582\n",
      "Loop break on Tolarence  0.01\n",
      "Root at  0  iteration :  0.25\n",
      "Root at  1  iteration :  0.29567220118416904\n",
      "Root at  2  iteration :  0.2975271077619582\n",
      "Root at  3  iteration :  0.2975302336627602\n",
      "Loop break on Tolarence  0.001\n",
      "Root at  0  iteration :  0.25\n",
      "Root at  1  iteration :  0.29567220118416904\n",
      "Root at  2  iteration :  0.2975271077619582\n",
      "Root at  3  iteration :  0.2975302336627602\n",
      "Loop break on Tolarence  0.0001\n"
     ]
    }
   ],
   "source": [
    "newton_Raphson_with_tolerance(0,5,0.01)\n",
    "newton_Raphson_with_tolerance(0,5,0.001)\n",
    "newton_Raphson_with_tolerance(0,5,0.0001)"
   ]
  },
  {
   "cell_type": "code",
   "execution_count": 130,
   "metadata": {},
   "outputs": [],
   "source": [
    "#for fx3(x)\n",
    "import sympy as s\n",
    "\n",
    "def  newton_Raphson_with_tolerance3(initial_point,range_num,tolrence_var):\n",
    "    x = initial_point\n",
    "    \n",
    "    for i in range(range_num):\n",
    "        result = x - (fx3(x)/Diff_of_fx3(x))\n",
    "        #print(result)\n",
    "        \n",
    "        tol = tolrence(x,result,tolrence_var)\n",
    "        x = result\n",
    "        \n",
    "        print(\"Root at \", i,\" iteration : \",result )\n",
    "        \n",
    "        if tol is True:\n",
    "            print(\"Loop break on Tolarence \",tolrence_var)\n",
    "            break\n",
    "    "
   ]
  },
  {
   "cell_type": "code",
   "execution_count": 133,
   "metadata": {},
   "outputs": [
    {
     "name": "stdout",
     "output_type": "stream",
     "text": [
      "Root at  0  iteration :  -6.175507981457695\n",
      "Root at  1  iteration :  -6.077990383572454\n",
      "Root at  2  iteration :  -6.0323171815581675\n",
      "Root at  3  iteration :  -6.010414851183574\n",
      "Root at  4  iteration :  -5.999874277364833\n",
      "Root at  5  iteration :  -5.994800256985443\n",
      "Loop break on Tolarence  0.01\n"
     ]
    }
   ],
   "source": [
    "newton_Raphson_with_tolerance3(0.1,10,0.01)\n",
    "#newton_Raphson_with_tolerance3(0.1,5,0.001)\n",
    "\n",
    "#newton_Raphson_with_tolerance3(0.1,5,0.0001)"
   ]
  }
 ],
 "metadata": {
  "kernelspec": {
   "display_name": "Python 3.8.5 ('base')",
   "language": "python",
   "name": "python3"
  },
  "language_info": {
   "codemirror_mode": {
    "name": "ipython",
    "version": 3
   },
   "file_extension": ".py",
   "mimetype": "text/x-python",
   "name": "python",
   "nbconvert_exporter": "python",
   "pygments_lexer": "ipython3",
   "version": "3.8.5"
  },
  "orig_nbformat": 4,
  "vscode": {
   "interpreter": {
    "hash": "30424d9308010dafecca22b5ec9402eef0e44005ea326a16069b35614aa41d25"
   }
  }
 },
 "nbformat": 4,
 "nbformat_minor": 2
}
