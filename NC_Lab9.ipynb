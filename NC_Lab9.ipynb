{
 "cells": [
  {
   "cell_type": "markdown",
   "metadata": {},
   "source": [
    "<b><center>Name: Wasi Mahmood </center> <center><l>SID: 10578 </l></center> <center><l>NC_LAB 9</l></center></b>"
   ]
  },
  {
   "cell_type": "code",
   "execution_count": 2,
   "metadata": {},
   "outputs": [],
   "source": [
    "def fx(x):\n",
    "    return (1/(1+x**2))"
   ]
  },
  {
   "cell_type": "code",
   "execution_count": 3,
   "metadata": {},
   "outputs": [],
   "source": [
    "def differenceH(upperLim, LowerLim, intervals):\n",
    "    loop_cond = True\n",
    "    H =[0]\n",
    "    difference = (upperLim - LowerLim )/intervals\n",
    "    a = difference\n",
    "\n",
    "    while loop_cond is True:\n",
    "        H.append(difference)\n",
    "        \n",
    "        difference = difference + a\n",
    "        #print(difference)\n",
    "        \n",
    "        \n",
    "        if (difference / upperLim) > 1:\n",
    "            loop_cond = False \n",
    "            \n",
    "    return H\n",
    "        \n",
    "    "
   ]
  },
  {
   "cell_type": "code",
   "execution_count": 4,
   "metadata": {},
   "outputs": [
    {
     "name": "stdout",
     "output_type": "stream",
     "text": [
      "[0, 0.2, 0.4, 0.6000000000000001, 0.8, 1.0]\n"
     ]
    }
   ],
   "source": [
    "H=[]\n",
    "H = differenceH(1,0,5)\n",
    "print(H)"
   ]
  },
  {
   "cell_type": "code",
   "execution_count": 5,
   "metadata": {},
   "outputs": [
    {
     "name": "stdout",
     "output_type": "stream",
     "text": [
      "1.0\n",
      "0.9615384615384615\n",
      "0.8620689655172413\n",
      "0.7352941176470588\n",
      "0.6097560975609756\n",
      "0.5\n"
     ]
    }
   ],
   "source": [
    "approx =[]\n",
    "for i in range(len(H)):\n",
    "    \n",
    "    approx.append(fx(H[i]))\n",
    "    print(approx[i])"
   ]
  },
  {
   "cell_type": "code",
   "execution_count": 16,
   "metadata": {},
   "outputs": [
    {
     "data": {
      "text/plain": [
       "0.7837315284527475"
      ]
     },
     "execution_count": 16,
     "metadata": {},
     "output_type": "execute_result"
    }
   ],
   "source": [
    "(0.2/2)* (((approx[0] + approx[-1]) + (2*sum(approx[1:-1]))))   #H == 0.2"
   ]
  },
  {
   "cell_type": "code",
   "execution_count": 15,
   "metadata": {},
   "outputs": [
    {
     "data": {
      "text/plain": [
       "0.5"
      ]
     },
     "execution_count": 15,
     "metadata": {},
     "output_type": "execute_result"
    }
   ],
   "source": [
    "approx[-1]"
   ]
  },
  {
   "cell_type": "markdown",
   "metadata": {},
   "source": [
    "# Question 2 "
   ]
  },
  {
   "cell_type": "code",
   "execution_count": 17,
   "metadata": {},
   "outputs": [
    {
     "data": {
      "text/plain": [
       "0.7853981633974484"
      ]
     },
     "execution_count": 17,
     "metadata": {},
     "output_type": "execute_result"
    }
   ],
   "source": [
    "import scipy.integrate as si\n",
    "import math as m\n",
    "\n",
    "#ans,err = si.quad(fx,0,1) \n",
    "#ns"
   ]
  },
  {
   "cell_type": "code",
   "execution_count": 30,
   "metadata": {},
   "outputs": [],
   "source": [
    "def fx1(t):\n",
    "    return(2000*m.log(140000/ (140000 - 2100*t)) - (9.8*t))"
   ]
  },
  {
   "cell_type": "code",
   "execution_count": 40,
   "metadata": {},
   "outputs": [
    {
     "data": {
      "text/plain": [
       "11061.335535080994"
      ]
     },
     "execution_count": 40,
     "metadata": {},
     "output_type": "execute_result"
    }
   ],
   "source": [
    "ans,err = si.quad(fx1,8,30)\n",
    "ans"
   ]
  },
  {
   "cell_type": "code",
   "execution_count": 96,
   "metadata": {},
   "outputs": [
    {
     "data": {
      "text/plain": [
       "[0,\n",
       " 3.6666666666666665,\n",
       " 7.333333333333333,\n",
       " 11.0,\n",
       " 14.666666666666666,\n",
       " 18.333333333333332,\n",
       " 22.0,\n",
       " 25.666666666666668,\n",
       " 29.333333333333336]"
      ]
     },
     "execution_count": 96,
     "metadata": {},
     "output_type": "execute_result"
    }
   ],
   "source": [
    "arr =[]\n",
    "arr = differenceH(30,8,6)\n",
    "arr"
   ]
  },
  {
   "cell_type": "code",
   "execution_count": 97,
   "metadata": {},
   "outputs": [
    {
     "name": "stdout",
     "output_type": "stream",
     "text": [
      "0.0\n",
      "77.20736964345514\n",
      "161.20096584523654\n",
      "252.84710826256293\n",
      "353.1893852636661\n",
      "463.500581588258\n",
      "585.3551331942507\n",
      "720.7326890179049\n",
      "872.1703238392176\n"
     ]
    }
   ],
   "source": [
    "arr2 =[]\n",
    "for i in range(len(arr)):\n",
    "    \n",
    "    arr2.append(fx1(arr[i]))\n",
    "    print(arr2[i])"
   ]
  },
  {
   "cell_type": "code",
   "execution_count": 113,
   "metadata": {},
   "outputs": [],
   "source": [
    "direct_method = (3.63/2)* (((arr2[0] + arr2[-1]) + (2*sum(arr2[1:-1]))))   #H == 3.63"
   ]
  },
  {
   "cell_type": "code",
   "execution_count": 114,
   "metadata": {},
   "outputs": [
    {
     "name": "stdout",
     "output_type": "stream",
     "text": [
      "By Direct Method:  11071.929772887843\n",
      "By Itnegral Mathod:  11061.335535080994\n",
      "Error:  -10.594237806848469\n"
     ]
    }
   ],
   "source": [
    "print(\"By Direct Method: \", direct_method)\n",
    "print(\"By Itnegral Mathod: \", ans)\n",
    "print(\"Error: \", ans - direct_method)\n"
   ]
  },
  {
   "cell_type": "markdown",
   "metadata": {},
   "source": [
    "# Question 3"
   ]
  },
  {
   "cell_type": "code",
   "execution_count": 115,
   "metadata": {},
   "outputs": [],
   "source": [
    "def fx2(x):\n",
    "    return ((300*x) / (1+m.exp(1)**x))"
   ]
  },
  {
   "cell_type": "code",
   "execution_count": 118,
   "metadata": {},
   "outputs": [
    {
     "name": "stdout",
     "output_type": "stream",
     "text": [
      "By Itnegral Mathod:  246.590293505238\n"
     ]
    }
   ],
   "source": [
    "import scipy.integrate \n",
    "ans , err = scipy.integrate.quad(fx2,0,10)\n",
    "print(\"By Itnegral Mathod: \", ans)\n"
   ]
  }
 ],
 "metadata": {
  "kernelspec": {
   "display_name": "Python 3.8.5 ('base')",
   "language": "python",
   "name": "python3"
  },
  "language_info": {
   "codemirror_mode": {
    "name": "ipython",
    "version": 3
   },
   "file_extension": ".py",
   "mimetype": "text/x-python",
   "name": "python",
   "nbconvert_exporter": "python",
   "pygments_lexer": "ipython3",
   "version": "3.8.5"
  },
  "orig_nbformat": 4,
  "vscode": {
   "interpreter": {
    "hash": "30424d9308010dafecca22b5ec9402eef0e44005ea326a16069b35614aa41d25"
   }
  }
 },
 "nbformat": 4,
 "nbformat_minor": 2
}
